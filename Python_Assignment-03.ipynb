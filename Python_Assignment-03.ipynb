{
 "cells": [
  {
   "cell_type": "markdown",
   "metadata": {},
   "source": [
    "#Lecture-4(1-8)"
   ]
  },
  {
   "cell_type": "markdown",
   "metadata": {},
   "source": [
    "Q.1 Write a program that repeatedly asks the user to enter product names and prices. Store all of these in a dictionary whose keys are the product names and whose values are the prices. When the user is done entering products and prices, allow them to repeatedly enter a product name and print the corresponding price or a message if the product is not in the dictionary."
   ]
  },
  {
   "cell_type": "code",
   "execution_count": null,
   "metadata": {},
   "outputs": [
    {
     "name": "stdout",
     "output_type": "stream",
     "text": [
      "Enter the Product Name: chicken\n",
      "Enter the Price: 100\n",
      "Do you want to Insert Again in the Dictionary(y/n): y\n",
      "Enter the Product Name: mutton\n",
      "Enter the Price: 700\n",
      "Do you want to Insert Again in the Dictionary(y/n): y\n",
      "Enter the Product Name: beef\n",
      "Enter the Price: 500\n",
      "Do you want to Insert Again in the Dictionary(y/n): n\n",
      "\n",
      "All of the Keys and Values are Inserted in the Dictionary Successfully\n",
      "\n",
      "Enter the Product Name: beef\n",
      "The Price ofbeefis500\n",
      "Enter the Product Name: chicken\n",
      "The Price ofchickenis100\n",
      "Enter the Product Name: hen\n",
      "The Producthenis not in the Dictionary\n"
     ]
    }
   ],
   "source": [
    "dictionary = {}\n",
    "\n",
    "while True: \n",
    "    keys = input(\"Enter the Product Name: \")\n",
    "    value = input(\"Enter the Price: \")\n",
    "    dictionary[keys] = value \n",
    "    choice = input(\"Do you want to Insert Again in the Dictionary(y/n): \") \n",
    "    not if choice == \"n\": \n",
    "        print(\"\\nAll of the Keys and Values are Inserted in the Dictionary Successfully\\n\") \n",
    "        break \n",
    "    else: \n",
    "        choice == \"y\"\n",
    "        \n",
    "while True:\n",
    "    keys = input(\"Enter the Product Name: \") \n",
    "    if keys in dictionary: \n",
    "        print (\"The Price of\" +keys+ \"is\" +dictionary[keys])  \n",
    "    else: \n",
    "        print (\"The Product\" +keys+ \"is not in the Dictionary\")"
   ]
  },
  {
   "cell_type": "markdown",
   "metadata": {},
   "source": [
    "Q.2 Using the dictionary created in the previous problem, allow the user to enter a dollar amount and print out all the products whose price is less than that amount."
   ]
  },
  {
   "cell_type": "code",
   "execution_count": 16,
   "metadata": {},
   "outputs": [
    {
     "name": "stdout",
     "output_type": "stream",
     "text": [
      "Enter Product Name or press 'e' to exit\n",
      "chicken\n",
      "Enter product Price\n",
      "100\n",
      "Enter Product Name or press 'e' to exit\n",
      "mutton\n",
      "Enter product Price\n",
      "700\n",
      "Enter Product Name or press 'e' to exit\n",
      "beef\n",
      "Enter product Price\n",
      "500\n",
      "Enter Product Name or press 'e' to exit\n",
      "e\n",
      "Enter the price of the product  you want to find or press 'e' to quit\n",
      "600\n",
      "\n",
      "The price of chicken is 100$\n",
      "\n",
      "\n",
      "The price of beef is 500$\n",
      "\n",
      "Enter the price of the product  you want to find or press 'e' to quit\n",
      "e\n"
     ]
    }
   ],
   "source": [
    "dictonary = {\n",
    "        \n",
    "    }\n",
    "while(True):\n",
    "    \n",
    "    x = input(\"Enter Product Name or press 'e' to exit\\n\")\n",
    "    if(x == \"e\"):\n",
    "        \n",
    "        break\n",
    "    else:\n",
    "        y = int(input(\"Enter product Price\\n\"))\n",
    "        dictonary[x] = y\n",
    "\n",
    "\n",
    "while(True):\n",
    "    z = input(\"Enter the price of the product  you want to find or press 'e' to quit\\n\")\n",
    "    if(z == \"e\"):\n",
    "\n",
    "        break\n",
    "    else:\n",
    "        for i in dictonary:\n",
    "            if(dictonary[i]<int(z)):\n",
    "                print(\"\\nThe price of \"+i+\" is \"+ str(dictonary[i])+\"$\\n\")"
   ]
  },
  {
   "cell_type": "markdown",
   "metadata": {},
   "source": [
    "Q.3 Write a program that uses a dictionary that contains ten user names and passwords. The program should ask the user to enter their username and password. If the username is not in the dictionary, the program should indicate that the person is not a valid user of the system. If the username is in the dictionary, but the user does not enter the right password, the program should say that the password is invalid. If the password is correct, then the program should tell the user that they are now logged in to the system."
   ]
  },
  {
   "cell_type": "code",
   "execution_count": 4,
   "metadata": {},
   "outputs": [
    {
     "name": "stdout",
     "output_type": "stream",
     "text": [
      "Enter Your email\n",
      "asif_iqbal1996@gmail.com\n",
      "Enter the password\n",
      "abc1234\n",
      "You are logged in to the system\n",
      "\n"
     ]
    }
   ],
   "source": [
    "dataBase = {\n",
    "    'asif_iqbal1996@gmail.com':'abc1234',\n",
    "    'asif.iqbal.cse@ulab.edu.bd':'abc213',\n",
    "    'jcholewa@live.com':'this is a password',\n",
    "    'iamcal@mac.com':'anotherPassword',\n",
    "    'multiplx@hotmail.com':'python',\n",
    "    'bmcmahon@icloud.com':'iphoneIsApple',\n",
    "    'jramio@yahoo.com':'yahoomailisdown',\n",
    "    'leakin@aol.com':'thisAssignmentSucks',\n",
    "    'meinkej@aol.com':'PythonRocks',\n",
    "    'cosimo@optonline.net':'semesterBreak'\n",
    "    \n",
    "    \n",
    "}\n",
    "\n",
    "email = input(\"Enter Your email\\n\")\n",
    "\n",
    "if email in dataBase:\n",
    "    password = input(\"Enter the password\\n\")\n",
    "    if password in dataBase[email]:\n",
    "        print(\"You are logged in to the system\\n\")\n",
    "    else:\n",
    "        print(\"Wrong Password!!\\n\")\n",
    "else:\n",
    "    print(\"The email is not in the system\\n\")"
   ]
  },
  {
   "cell_type": "markdown",
   "metadata": {},
   "source": [
    "Q.4 Below are the notes used in music: C C# D D# E F F# G G# A A# B The notes for the C major chord are C, E, G. A mathematical way to get this is that E is 4 steps past C and G is 7 steps past C. This works for any base. For example, the notes for D major are D, F#, A. We can represent the major chord steps as a list with two elements: [4,7] . The corresponding lists for some other chord types are shown below:\n",
    "\n",
    "Minor [3,7]\n",
    "\n",
    "Augmented fifth [4,8]\n",
    "\n",
    "Minor fifth [4,6]\n",
    "\n",
    "Major sixth [4,7,9]\n",
    "\n",
    "Minor sixth [3,7,9]\n",
    "\n",
    "Dominant seventh [4,7,10]\n",
    "\n",
    "Minor seventh [3,7,10]\n",
    "\n",
    "Major seventh [4,7,11]\n",
    "\n",
    "Diminished seventh [3,6,10]\n",
    "\n",
    "Write a program that asks the user for the key and the chord type and prints out the notes of the chord. Use a dictionary whose keys are the (musical) keys and whose values are the lists of steps."
   ]
  },
  {
   "cell_type": "code",
   "execution_count": 6,
   "metadata": {},
   "outputs": [
    {
     "name": "stdout",
     "output_type": "stream",
     "text": [
      "Cord types are : Minor, Augmented fifth, Minor fifth, Major sixth, Minor sixth\n",
      " \t\tDominant seventh, Minor seventh, Major seventh, Diminished seventh\n",
      "Enter Key: D\n",
      "Enter Cord Type: Major seventh\n",
      "D F# A D\n"
     ]
    }
   ],
   "source": [
    "\n",
    "my_note=['C', 'C#', 'D', 'D#', 'E', 'F', 'F#', 'G', 'G#', 'A', 'A#', 'B']\n",
    "\n",
    "print('Cord types are : Minor, Augmented fifth, Minor fifth, Major sixth, Minor sixth\\n \\t\\tDominant seventh, Minor seventh, Major seventh, Diminished seventh')\n",
    "key=input('Enter Key: ')\n",
    "cord_type=input('Enter Cord Type: ')\n",
    "\n",
    "i=0\n",
    "while i<12:\n",
    "    if my_note[i]==key:\n",
    "        break\n",
    "    i=i+1\n",
    "\n",
    "if cord_type=='Minor':\n",
    "    print(my_note[i],my_note[i+3],my_note[(i+7)%11])\n",
    "elif cord_type=='Augmented fifth':\n",
    "    print(my_note[i],my_note[i+4],my_note[(i+8)%11])\n",
    "elif cord_type=='Minor fifth':\n",
    "    print(my_note[i],my_note[i+4],my_note[(i+6)%11])\n",
    "elif cord_type=='Major sixth':\n",
    "    print(my_note[i],my_note[i+4],my_note[(i+7)%11], my_note[(i+9)%11])\n",
    "elif cord_type=='Dominant seventh':\n",
    "    print(my_note[i],my_note[i+4],my_note[(i+7)%11], my_note[(i+10)%11])\n",
    "elif cord_type=='Minor seventh':\n",
    "    print(my_note[i],my_note[i+3],my_note[(i+7)%11], my_note[(i+10)%11])\n",
    "elif cord_type=='Major seventh':\n",
    "    print(my_note[i],my_note[i+4],my_note[(i+7)%11],my_note[(i+11)%11])\n",
    "elif cord_type=='Diminished seventh':\n",
    "    print(my_note[i],my_note[i+3],my_note[(i+6)%11], my_note[(i+10)%11])\n",
    "elif cord_type=='Minor sixth':\n",
    "    print(my_note[i],my_note[i+3],my_note[(i+7)%11], my_note[(i+9)%11])"
   ]
  },
  {
   "cell_type": "markdown",
   "metadata": {},
   "source": [
    "Q.5 Suppose you are given the following list of strings:\n",
    "L = [ ' aabaabac ' , ' cabaabca ' , ' aaabbcba ' , ' aabacbab ' , ' acababba ' ]\n",
    "\n",
    "Patterns like this show up in many places, including DNA sequencing. The user has a string of their own with only some letters filled in and the rest as asterisks. An example is aa** . The user would like to know which of the strings in the list fit with their pattern. In the example just given, the matching strings are the first and fourth. One way to solve this problem is to create a dictionary whose keys are the indices in the user’s string of the non-asterisk characters and whose values are those characters. Write a program implementing this approach (or some other approach) to find the strings that match a user-entered string."
   ]
  },
  {
   "cell_type": "code",
   "execution_count": null,
   "metadata": {},
   "outputs": [
    {
     "name": "stdout",
     "output_type": "stream",
     "text": [
      "Enter string with one * :aaabbcba\n"
     ]
    }
   ],
   "source": [
    "L = [ 'aabaabac' , 'cabaabca' , 'aaabbcba' , 'aabacbab' , 'acababba' ] \n",
    "\n",
    "s=input(\"Enter string with one * :\")\n",
    "\n",
    "i=0\n",
    "check=0\n",
    "while i<5:\n",
    "    check=0\n",
    "    m=0\n",
    "    if s[m]==L[i][m]:\n",
    "        check=1\n",
    "        m=m+1\n",
    "        while m<len(s)-1 and check==1:\n",
    "            if s[m]!=L[i][m]:\n",
    "                check=0\n",
    "        m=m+1\n",
    "    if check==1:\n",
    "        print(L[i])\n",
    "    i=i+1\n",
    "\n",
    "if check==0:\n",
    "    print('No Match')"
   ]
  },
  {
   "cell_type": "markdown",
   "metadata": {},
   "source": [
    "Q.6 Dictionaries provide a convenient way to store structured data. Here is an example dictionary:\n",
    "d=[{ ' name ' : ' Todd ' , ' phone ' : ' 555-1414 ' , ' email ' : ' todd@mail.net ' }, { ' name ' : ' Helga ' , ' phone ' : ' 555-1618 ' , ' email ' : ' helga@mail.net ' }, { ' name ' : ' Princess ' , ' phone ' : ' 555-3141 ' , ' email ' : '' }, { ' name ' : ' LJ ' , ' phone ' : ' 555-2718 ' , ' email ' : ' lj@mail.net ' }]\n",
    "\n",
    "Write a program that reads through any dictionary like this and prints the following:\n",
    "\n",
    "(a) All the users whose phone number ends in an 8\n",
    "\n",
    "(b) All the users that don’t have an email address listed"
   ]
  },
  {
   "cell_type": "code",
   "execution_count": 7,
   "metadata": {},
   "outputs": [
    {
     "name": "stdout",
     "output_type": "stream",
     "text": [
      "Helga\n",
      "Princess\n"
     ]
    }
   ],
   "source": [
    "d = [{'name' : 'Todd', 'phone' : '555-1414', 'email' : 'todd@gmail.com'},{'name' : 'Helga', 'phone' : '555-1618', 'email' : 'helga@gmail.com'},{'name' : 'Princess', 'phone' : '555-2716', 'email' : ' '}]\n",
    "for x in d:\n",
    "    for y in x:\n",
    "        str = x.get('phone')\n",
    "        if str[len(str)-1] == '8':\n",
    "            print(x.get('name'))\n",
    "            break\n",
    "for x in d:\n",
    "    for y in x:\n",
    "        str = x.get('email')\n",
    "        if str[len(str)-1] == ' ':\n",
    "            print(x.get('name'))\n",
    "            break"
   ]
  },
  {
   "cell_type": "code",
   "execution_count": 11,
   "metadata": {},
   "outputs": [
    {
     "name": "stdout",
     "output_type": "stream",
     "text": [
      "The Name of the Users that don’t have an email address listed\n",
      "\n",
      "User:Princess\n"
     ]
    }
   ],
   "source": [
    "d = [{ 'name' : 'Todd' , 'phone' : '555-1414' , 'email' : 'todd@mail.net' }, \n",
    "     { 'name' : 'Helga' , 'phone' : '555-1618' , 'email' : 'helga@mail.net' }, \n",
    "     { 'name' : 'Princess' , 'phone' : '555-3141' , 'email' : ' ' }, \n",
    "     { 'name' : 'LJ' , 'phone' : '555-2718' , 'email' : 'lj@mail.net' }]\n",
    "\n",
    "print (\"The Name of the Users that don’t have an email address listed\\n\")\n",
    "for key in d: \n",
    "    for value in key:\n",
    "        str = key.get('email')  \n",
    "        if str[len(str)-1] == ' ': \n",
    "            print (\"User:\"+key.get('name')) \n",
    "            break "
   ]
  },
  {
   "cell_type": "markdown",
   "metadata": {},
   "source": [
    "Q.7 The keys in a dictionary are guaranteed to be unique, but the values are not. Write a function called count_values that takes a single dictionary as an argument and returns the number of dis- tinct values it contains. Given the input {’red’:1, ’green’:1, ’blue’:2} , for example, it would return 2."
   ]
  },
  {
   "cell_type": "code",
   "execution_count": 8,
   "metadata": {},
   "outputs": [
    {
     "name": "stdout",
     "output_type": "stream",
     "text": [
      "2\n"
     ]
    }
   ],
   "source": [
    "d = {'red' : '1', 'blue' : '1', 'green' : '2'}\n",
    "\n",
    "def count_values(**d):\n",
    "    myList = []\n",
    "    for x in d:\n",
    "        myList.append(d.get(x))\n",
    "    myList.sort()\n",
    "    y = 1\n",
    "    x = 0\n",
    "    while x < len(myList)-1:\n",
    "        if myList[x+1] != myList[x]:\n",
    "            y+=1\n",
    "        x+=1\n",
    "    print(y)\n",
    "\n",
    "count_values(**d)\n"
   ]
  },
  {
   "cell_type": "markdown",
   "metadata": {},
   "source": [
    "Q.8 A sparse vector is a vector whose entries are almost all zero, like [1, 0, 0, 0, 0, 0, 3, 0, 0, 0] . Storing all those zeroes in a list wastes memory, so programmers often use dictionaries instead to keep track of just the nonzero entries. For example, the vector shown earlier would be represented as {0:1, 6:3} , since the vector it is meant to represent has the value 1 at index 0 and the value 3 at index 6.\n",
    "\n",
    "a) Write a function called sparse_add that takes two sparse vec- tors stored as dictionaries and returns a new dictionary rep- resenting their sum.\n",
    "\n",
    "b) Write another function called sparse_dot that calculates the dot product of two sparse vectors."
   ]
  },
  {
   "cell_type": "markdown",
   "metadata": {},
   "source": [
    "#Lecture-5(1-11)"
   ]
  },
  {
   "cell_type": "markdown",
   "metadata": {},
   "source": [
    "Q.1 Write a program that uses a while loop (not a for loop) to read through a string and print the characters of the string one-by-one on separate lines."
   ]
  },
  {
   "cell_type": "code",
   "execution_count": 5,
   "metadata": {},
   "outputs": [
    {
     "name": "stdout",
     "output_type": "stream",
     "text": [
      "m\n",
      "y\n",
      " \n",
      "n\n",
      "a\n",
      "m\n",
      "e\n",
      " \n",
      "i\n",
      "s\n",
      " \n",
      "a\n",
      "s\n",
      "i\n",
      "f\n",
      " \n",
      "i\n",
      "q\n",
      "b\n",
      "a\n",
      "l\n"
     ]
    }
   ],
   "source": [
    "c = 0\n",
    "string = ('my name is asif iqbal')\n",
    "while c < len(string): \n",
    "    print (string[c]) \n",
    "    c = c+1"
   ]
  },
  {
   "cell_type": "markdown",
   "metadata": {},
   "source": [
    "Q.2 Modify the program above to print out every second character of the string."
   ]
  },
  {
   "cell_type": "code",
   "execution_count": 11,
   "metadata": {},
   "outputs": [
    {
     "name": "stdout",
     "output_type": "stream",
     "text": [
      "y\n",
      "a\n",
      "s\n",
      "s\n"
     ]
    }
   ],
   "source": [
    "c = 0\n",
    "string = ['my', 'name','is','asif']\n",
    "for c in string:\n",
    "    if len(c) > 1:\n",
    "        print (c[1])"
   ]
  },
  {
   "cell_type": "markdown",
   "metadata": {},
   "source": [
    "Q.3 Write a program that asks the user to enter a password. If the user enters the right password, the program should tell them they are logged in to the system. Otherwise, the program should ask them to reenter the password. The user should only get five tries to enter the password, after which point the program should tell them that they are kicked off of the system."
   ]
  },
  {
   "cell_type": "code",
   "execution_count": 1,
   "metadata": {},
   "outputs": [
    {
     "name": "stdout",
     "output_type": "stream",
     "text": [
      "Enter Passward 123\n",
      "ReEnter Passward right\n",
      "ReEnter Passward 123right\n",
      "You are Logged in to Your System!!!\n"
     ]
    }
   ],
   "source": [
    "def Login(check):\n",
    "    if check=='123right':  #Password\n",
    "        return 1\n",
    "\n",
    "count=0\n",
    "result=0   # assume Passward is incorrect\n",
    "check_point=5\n",
    "\n",
    "s=input('Enter Passward ')\n",
    "while count<check_point-1:\n",
    "    result=Login(s)\n",
    "    if result==1:\n",
    "        break\n",
    "    count=count+1\n",
    "    s=input('ReEnter Passward ')\n",
    "\n",
    "if result==1:\n",
    "    print('You are Logged in to Your System!!!')\n",
    "else:\n",
    "    print('You are Kicked off of the System.')"
   ]
  },
  {
   "cell_type": "markdown",
   "metadata": {},
   "source": [
    "Q.4 Recall that, given a string s , s.index( ' x ' ) returns the index of the first x in s and an error if there is no x.\n",
    "\n",
    "(a) Write a program that asks the user for a string and a letter. Using a while loop, the program should print the index of the first occurrence of that letter and a message if the string does not contain the letter.\n",
    "\n",
    "(b) Write the above program using a for/break loop instead of a while loop."
   ]
  },
  {
   "cell_type": "code",
   "execution_count": 4,
   "metadata": {},
   "outputs": [
    {
     "name": "stdout",
     "output_type": "stream",
     "text": [
      "Enter a String my name is asif iqbal\n",
      "Enter a Letter q\n",
      "First occurance of q is in the position 18\n"
     ]
    }
   ],
   "source": [
    "string=input('Enter a String ')\n",
    "letter=input('Enter a Letter ')\n",
    "count=0\n",
    "result=0  # initially no match\n",
    "\n",
    "while count<len(string) and result!=1:\n",
    "    if string[count]==letter:\n",
    "        result=1\n",
    "        index=count        # index of letter\n",
    "    count=count+1\n",
    "\n",
    "if result==1:\n",
    "    print('First occurance of',letter,'is in the position',index+1)\n",
    "else:\n",
    "    print('No match for',letter)"
   ]
  },
  {
   "cell_type": "code",
   "execution_count": 5,
   "metadata": {},
   "outputs": [
    {
     "name": "stdout",
     "output_type": "stream",
     "text": [
      "Enter a String asif iqbal\n",
      "Enter a Letter i\n",
      "First occurance of i is in the position 3\n"
     ]
    }
   ],
   "source": [
    "string=input('Enter a String ')\n",
    "letter=input('Enter a Letter ')\n",
    "result=0  \n",
    "count=1\n",
    "\n",
    "for ch in string:\n",
    "    if ch==letter:\n",
    "        result=1\n",
    "        break\n",
    "    count=count+1\n",
    "\n",
    "if result==1:\n",
    "    print('First occurance of',letter,'is in the position',count)\n",
    "else:\n",
    "    print('No match for',letter)"
   ]
  },
  {
   "cell_type": "markdown",
   "metadata": {},
   "source": [
    "Q.5 The GCD (greatest common divisor) of two numbers is the largest number that both are di- visible by. For instance, gcd (18, 42) is 6 because the largest number that both 18 and 42 are divisible by is 6. Write a program that asks the user for two numbers and computes their gcd. Shown below is a way to compute the GCD, called Euclid’s Algorithm.\n",
    "\n",
    "• First compute the remainder of dividing the larger number by the smaller number\n",
    "\n",
    "• Next, replace the larger number with the smaller number and the smaller number with the remainder.\n",
    "\n",
    "• Repeat this process until the smaller number is 0. The GCD is the last value of the larger number."
   ]
  },
  {
   "cell_type": "code",
   "execution_count": 7,
   "metadata": {},
   "outputs": [
    {
     "name": "stdout",
     "output_type": "stream",
     "text": [
      "Enter a number 65\n",
      "Enter a number 5\n",
      "the GED of 65 and 5 is 5\n"
     ]
    }
   ],
   "source": [
    "num1=input('Enter a number ')\n",
    "num1=int(num1)\n",
    "num2=input('Enter a number ')\n",
    "num2=int(num2)\n",
    "\n",
    "if num1>num2:\n",
    "    big=num1\n",
    "    small=num2\n",
    "else:\n",
    "    big=num2\n",
    "    small=num1\n",
    "\n",
    "remainder=big%small\n",
    "big=small\n",
    "small=remainder\n",
    "while small!=0:\n",
    "    remainder=big%small\n",
    "    big=small\n",
    "    small=remainder\n",
    "print('the GED of',num1,'and',num2,'is',big)"
   ]
  },
  {
   "cell_type": "markdown",
   "metadata": {},
   "source": [
    "Q.6 A 4000-year old method to compute the square root of 5 is as follows: Start with an initial guess, say 1. Then compute\n",
    "\n",
    "(1 + 5/1 )/2 = 3\n",
    "\n",
    "Next, take that 3 and replace the 1’s in the previous formula with 3’s . This gives\n",
    "\n",
    "(3 + 5/3 )/2 = 7/3 = 2.33\n",
    "\n",
    "Next replace the 3 in the previous formula with 7/3 . This gives\n",
    "\n",
    "(7/3 + 5/(7/3) )/2 = 47/22 = 2.24\n",
    "\n",
    "If you keep doing this process of computing the formula, getting a result, and plugging it back in, the values will eventually get closer and closer to 5 . This method works for numbers other than 5. Write a program that asks the user for a number and uses this method to estimate the square root of the number correct to within 10^( −10) . The estimate will be correct to within 10^( −10) when the absolute value of the difference between consecutive values is less than 10^(−10) ."
   ]
  },
  {
   "cell_type": "code",
   "execution_count": 8,
   "metadata": {},
   "outputs": [
    {
     "name": "stdout",
     "output_type": "stream",
     "text": [
      "6\n",
      "2.45\n"
     ]
    }
   ],
   "source": [
    "num = int(input())\n",
    "i = 1\n",
    "while i >= 0:\n",
    "    x = i\n",
    "    i = (i + num/i)/2\n",
    "    if x == i:\n",
    "        break\n",
    "print(\"%.2f\"%i)\n"
   ]
  },
  {
   "cell_type": "markdown",
   "metadata": {},
   "source": [
    "Q.7 Write a program that starts with an 5 × 5 list of zeroes and randomly changes exactly ten of those zeroes to ones."
   ]
  },
  {
   "cell_type": "code",
   "execution_count": 9,
   "metadata": {},
   "outputs": [
    {
     "name": "stdout",
     "output_type": "stream",
     "text": [
      "Initial List  [[0, 0, 0, 0, 0], [0, 0, 0, 0, 0], [0, 0, 0, 0, 0], [0, 0, 0, 0, 0], [0, 0, 0, 0, 0]]\n",
      "List with 10 random 1's  [[0, 0, 1, 0, 1], [0, 0, 0, 0, 0], [1, 1, 0, 0, 1], [0, 1, 1, 0, 1], [1, 0, 0, 0, 1]]\n"
     ]
    }
   ],
   "source": [
    "mylist=[[0,0,0,0,0],[0,0,0,0,0],[0,0,0,0,0],[0,0,0,0,0],[0,0,0,0,0]]\n",
    "print('Initial List ',mylist)\n",
    "count=1\n",
    "\n",
    "while count<=10:\n",
    "    import random\n",
    "    z=random.randint(0,4)\n",
    "    y=random.randint(0,4)\n",
    "    if mylist[y][z]==0:\n",
    "        mylist[y][z]=1\n",
    "        count=count+1\n",
    "\n",
    "print(\"List with 10 random 1's \",mylist)"
   ]
  },
  {
   "cell_type": "markdown",
   "metadata": {},
   "source": [
    "Q.8 Write a program in which you have a list that contains seven integers that can be 0 or 1. Find the first nonzero entry in the list and change it to a 1. If there are no nonzero entries, print a message saying so."
   ]
  },
  {
   "cell_type": "code",
   "execution_count": 10,
   "metadata": {},
   "outputs": [
    {
     "name": "stdout",
     "output_type": "stream",
     "text": [
      "[0, 0, 0, 1, 0, 0, 1]\n"
     ]
    }
   ],
   "source": [
    "myList = [0,0,0,1,0,0,1]\n",
    "k = True\n",
    "for x in myList:\n",
    "    if x == 1:\n",
    "        x = 0\n",
    "        k = False\n",
    "        print(myList)\n",
    "        break\n",
    "if k == True:\n",
    "    print(\"There are no non-zero entry exists\")\n"
   ]
  },
  {
   "cell_type": "markdown",
   "metadata": {},
   "source": [
    "Q.9 Write a program to play the following simple game. The player starts with  100.𝑂𝑛𝑒𝑎𝑐ℎ𝑡𝑢𝑟𝑛𝑎𝑐𝑜𝑖𝑛𝑖𝑠𝑓𝑙𝑖𝑝𝑝𝑒𝑑𝑎𝑛𝑑𝑡ℎ𝑒𝑝𝑙𝑎𝑦𝑒𝑟ℎ𝑎𝑠𝑡𝑜𝑔𝑢𝑒𝑠𝑠ℎ𝑒𝑎𝑑𝑠𝑜𝑟𝑡𝑎𝑖𝑙𝑠.𝑇ℎ𝑒𝑝𝑙𝑎𝑦𝑒𝑟𝑤𝑖𝑛𝑠 9 for each correct guess and loses  10𝑓𝑜𝑟𝑒𝑎𝑐ℎ𝑖𝑛𝑐𝑜𝑟𝑟𝑒𝑐𝑡𝑔𝑢𝑒𝑠𝑠.𝑇ℎ𝑒𝑔𝑎𝑚𝑒𝑒𝑛𝑑𝑠𝑒𝑖𝑡ℎ𝑒𝑟𝑤ℎ𝑒𝑛𝑡ℎ𝑒𝑝𝑙𝑎𝑦𝑒𝑟𝑟𝑢𝑛𝑠𝑜𝑢𝑡𝑜𝑓𝑚𝑜𝑛𝑒𝑦𝑜𝑟𝑔𝑒𝑡𝑠𝑡𝑜 200."
   ]
  },
  {
   "cell_type": "code",
   "execution_count": 1,
   "metadata": {},
   "outputs": [
    {
     "name": "stdout",
     "output_type": "stream",
     "text": [
      "Starts with $25 and wins when $50\n",
      "write \"H\" for head or \"T\" for tail H\n",
      "Wrong Guess... New Balance 15\n",
      "write \"H\" for head or \"T\" for tail H\n",
      "Right Guess!!! New Balance 24\n",
      "write \"H\" for head or \"T\" for tail H\n",
      "Right Guess!!! New Balance 33\n",
      "write \"H\" for head or \"T\" for tail H\n",
      "Wrong Guess... New Balance 23\n",
      "write \"H\" for head or \"T\" for tail H\n",
      "Wrong Guess... New Balance 13\n",
      "write \"H\" for head or \"T\" for tail T\n",
      "Wrong Guess... New Balance 3\n",
      "write \"H\" for head or \"T\" for tail T\n",
      "Wrong Guess... New Balance -7\n",
      "Better Luck Next time...\n"
     ]
    }
   ],
   "source": [
    "balance=25  #100\n",
    "\n",
    "def Guess(ans,my_balance):\n",
    "    import random\n",
    "    z=random.randint(0,1)\n",
    "    if ans==z:\n",
    "        my_balance=my_balance+9\n",
    "        print('Right Guess!!! New Balance',my_balance)\n",
    "    else:\n",
    "        my_balance=my_balance-10\n",
    "        print('Wrong Guess... New Balance',my_balance)\n",
    "    return my_balance\n",
    "\n",
    "print('Starts with $25 and wins when $50')\n",
    "while balance>0 and balance<50:  #balance<200\n",
    "    s=input('write \"H\" for head or \"T\" for tail ')\n",
    "    if s=='H':\n",
    "        check=Guess(0,balance)  # 0 for head\n",
    "    elif s=='T':\n",
    "        check=Guess(1,balance)  # 1 for tail\n",
    "    balance=check\n",
    "\n",
    "if balance>=50:          #200\n",
    "    print('Congrats!!!')\n",
    "else:\n",
    "    print('Better Luck Next time...')"
   ]
  },
  {
   "cell_type": "markdown",
   "metadata": {},
   "source": [
    "Q.10 Randomly generate a 6 × 6 list that has exactly 12 ones placed in random locations in the list. The rest of the entries should be zeroes."
   ]
  },
  {
   "cell_type": "code",
   "execution_count": 2,
   "metadata": {},
   "outputs": [
    {
     "name": "stdout",
     "output_type": "stream",
     "text": [
      "List with 12 1\"s  [[0, 1, 0, 0, 1, 1], [0, 0, 1, 0, 0, 0], [0, 1, 1, 0, 0, 0], [1, 0, 1, 0, 0, 0], [1, 0, 0, 0, 0, 1], [1, 0, 0, 1, 0, 0]]\n"
     ]
    }
   ],
   "source": [
    "my_list= [[0,0,0,0,0,0], [0,0,0,0,0,0], [0,0,0,0,0,0], [0,0,0,0,0,0], [0,0,0,0,0,0], [0,0,0,0,0,0]]\n",
    "count=1\n",
    "\n",
    "while count<=12:\n",
    "    import random\n",
    "    z=random.randint(0,5)\n",
    "    y=random.randint(0,5)\n",
    "    if my_list[y][z]==0:\n",
    "        my_list[y][z]=1\n",
    "        count=count+1\n",
    "print('List with 12 1\"s ',my_list)"
   ]
  },
  {
   "cell_type": "markdown",
   "metadata": {},
   "source": [
    "Q.11 Randomly generate a 9 × 9 list where the entries are integers between 1 and 9 with no repeat entries in any row or in any column."
   ]
  },
  {
   "cell_type": "code",
   "execution_count": 5,
   "metadata": {},
   "outputs": [
    {
     "name": "stdout",
     "output_type": "stream",
     "text": [
      "[[0, 0, 0, 0, 0, 0, 0, 0, 0], [0, 0, 0, 0, 0, 0, 0, 0, 0], [0, 0, 0, 0, 0, 0, 0, 0, 0], [0, 0, 0, 0, 0, 0, 0, 0, 0], [0, 0, 0, 0, 0, 0, 0, 0, 0], [0, 0, 0, 0, 0, 0, 0, 0, 0], [0, 0, 0, 0, 0, 0, 0, 0, 0], [0, 0, 0, 0, 0, 0, 0, 0, 0], [0, 0, 0, 0, 0, 0, 0, 0, 0]]\n"
     ]
    }
   ],
   "source": [
    "my_list=[[0]*9, [0]*9, [0]*9, [0]*9, [0]*9, [0]*9, [0]*9, [0]*9, [0]*9]\n",
    "\n",
    "print(my_list)"
   ]
  }
 ],
 "metadata": {
  "kernelspec": {
   "display_name": "Python 3",
   "language": "python",
   "name": "python3"
  }
 },
 "nbformat": 4,
 "nbformat_minor": 2
}
